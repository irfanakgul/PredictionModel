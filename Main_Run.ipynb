{
 "cells": [
  {
   "cell_type": "code",
   "execution_count": 1,
   "id": "1bc6d5a7-41b8-4deb-80e4-f523fd4247a3",
   "metadata": {},
   "outputs": [
    {
     "name": "stdout",
     "output_type": "stream",
     "text": [
      "# Unplayed list has been written into excel, Size= 3\n"
     ]
    }
   ],
   "source": [
    "%run v4_ExtractionModel.ipynb"
   ]
  },
  {
   "cell_type": "code",
   "execution_count": null,
   "id": "dceea137-e1d8-4123-8eed-a2b8b4237963",
   "metadata": {},
   "outputs": [
    {
     "name": "stdout",
     "output_type": "stream",
     "text": [
      "###### DATA CLEANED > Raw df size - 61676, Cleaned DF Row Size - 12868, Columns size -  114 ######\n",
      "** Training Dataset Size= 12705 - Column= 105 ** \n",
      "###### DATA CLEANED > Raw df size - 61676, Cleaned DF Row Size - 12868, Columns size -  114 ######\n",
      "** Training Dataset Size= 12705 - Column= 105 ** \n",
      "###### DATA CLEANED > Raw df size - 61676, Cleaned DF Row Size - 12868, Columns size -  114 ######\n",
      "** Training Dataset Size= 12705 - Column= 105 ** \n",
      "###### DATA CLEANED > Raw df size - 61676, Cleaned DF Row Size - 12868, Columns size -  114 ######\n",
      "** Training Dataset Size= 12705 - Column= 105 ** \n",
      "###### DATA CLEANED > Raw df size - 61676, Cleaned DF Row Size - 12868, Columns size -  114 ######\n",
      "** Training Dataset Size= 12705 - Column= 105 ** \n",
      "###### DATA CLEANED > Raw df size - 61676, Cleaned DF Row Size - 12868, Columns size -  114 ######\n",
      "** Training Dataset Size= 12705 - Column= 105 ** \n",
      "###### DATA CLEANED > Raw df size - 61676, Cleaned DF Row Size - 12868, Columns size -  114 ######\n",
      "** Training Dataset Size= 12705 - Column= 105 ** \n",
      "###### DATA CLEANED > Raw df size - 61676, Cleaned DF Row Size - 12868, Columns size -  114 ######\n",
      "** Training Dataset Size= 12705 - Column= 105 ** \n",
      "###### DATA CLEANED > Raw df size - 61676, Cleaned DF Row Size - 12868, Columns size -  114 ######\n",
      "** Training Dataset Size= 12705 - Column= 105 ** \n",
      "###### DATA CLEANED > Raw df size - 61676, Cleaned DF Row Size - 12868, Columns size -  114 ######\n",
      "** Training Dataset Size= 12705 - Column= 105 ** \n",
      "###### DATA CLEANED > Raw df size - 61676, Cleaned DF Row Size - 12868, Columns size -  114 ######\n",
      "** Training Dataset Size= 12705 - Column= 105 ** \n",
      "###### DATA CLEANED > Raw df size - 61676, Cleaned DF Row Size - 12868, Columns size -  114 ######\n",
      "** Training Dataset Size= 12705 - Column= 105 ** \n",
      "###### DATA CLEANED > Raw df size - 61676, Cleaned DF Row Size - 12868, Columns size -  114 ######\n",
      "** Training Dataset Size= 12705 - Column= 105 ** \n",
      "###### DATA CLEANED > Raw df size - 61676, Cleaned DF Row Size - 12868, Columns size -  114 ######\n",
      "** Training Dataset Size= 12705 - Column= 105 ** \n",
      "###### DATA CLEANED > Raw df size - 61676, Cleaned DF Row Size - 12868, Columns size -  114 ######\n",
      "** Training Dataset Size= 12705 - Column= 105 ** \n",
      "###### DATA CLEANED > Raw df size - 61676, Cleaned DF Row Size - 12868, Columns size -  114 ######\n",
      "** Training Dataset Size= 12705 - Column= 105 ** \n"
     ]
    }
   ],
   "source": [
    "%run v4_MainPred_Model.ipynb"
   ]
  },
  {
   "cell_type": "code",
   "execution_count": null,
   "id": "403588ba-8b9e-4f48-a201-a096a5940ac2",
   "metadata": {},
   "outputs": [],
   "source": []
  },
  {
   "cell_type": "code",
   "execution_count": null,
   "id": "633bcb9d-31eb-497e-9e6f-2b09f2e986b6",
   "metadata": {},
   "outputs": [],
   "source": [
    "%run v4_selection.ipynb\n",
    "df_bet_selection"
   ]
  },
  {
   "cell_type": "code",
   "execution_count": null,
   "id": "db7a1f66-9052-4f3d-84f8-b3dd78902f6e",
   "metadata": {},
   "outputs": [],
   "source": []
  },
  {
   "cell_type": "code",
   "execution_count": null,
   "id": "24f14f97-46dc-486d-bebe-855d10cd1bdc",
   "metadata": {},
   "outputs": [],
   "source": []
  },
  {
   "cell_type": "code",
   "execution_count": null,
   "id": "a8b2002c-cc58-47be-8b98-5df6288d6c7e",
   "metadata": {},
   "outputs": [],
   "source": []
  },
  {
   "cell_type": "code",
   "execution_count": null,
   "id": "5a154b2f-8d80-42c9-88ad-a2c055bc31e5",
   "metadata": {},
   "outputs": [],
   "source": []
  }
 ],
 "metadata": {
  "kernelspec": {
   "display_name": "Python 3 (ipykernel)",
   "language": "python",
   "name": "python3"
  },
  "language_info": {
   "codemirror_mode": {
    "name": "ipython",
    "version": 3
   },
   "file_extension": ".py",
   "mimetype": "text/x-python",
   "name": "python",
   "nbconvert_exporter": "python",
   "pygments_lexer": "ipython3",
   "version": "3.10.9"
  }
 },
 "nbformat": 4,
 "nbformat_minor": 5
}
